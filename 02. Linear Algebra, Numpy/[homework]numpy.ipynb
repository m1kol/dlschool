{
 "cells": [
  {
   "cell_type": "markdown",
   "metadata": {
    "colab_type": "text",
    "id": "9zWJc5rl9kVh"
   },
   "source": [
    "# Домашнее задание 2: библиотека Numpy и линейная алгебра\n"
   ]
  },
  {
   "cell_type": "markdown",
   "metadata": {
    "colab_type": "text",
    "id": "nq2vjOfwWLwF"
   },
   "source": [
    "Импортируем библиотеки:"
   ]
  },
  {
   "cell_type": "code",
   "execution_count": 1,
   "metadata": {
    "colab": {},
    "colab_type": "code",
    "id": "R0mDEfRJ9kVi"
   },
   "outputs": [],
   "source": [
    "import numpy as np\n",
    "import matplotlib.pyplot as plt\n",
    "import scipy.stats as sps\n",
    "\n",
    "from scipy import misc \n",
    "\n",
    "%matplotlib inline"
   ]
  },
  {
   "cell_type": "markdown",
   "metadata": {
    "colab_type": "text",
    "id": "8t9loOAc9kVm"
   },
   "source": [
    "*Вопросы для самопроверки:*\n",
    "1. Что такое NumPy?\n",
    "2. Зачем используется и почему работает быстрее?\n",
    "3. Что такое линейная алгебра?\n",
    "4. Как она связана с машинным обучением и глубоким обучением?"
   ]
  },
  {
   "cell_type": "markdown",
   "metadata": {
    "colab_type": "text",
    "id": "ZexBy7Kb9kVm"
   },
   "source": [
    "### Задание 1"
   ]
  },
  {
   "cell_type": "markdown",
   "metadata": {
    "colab_type": "text",
    "id": "QuJhYgJU9kVn"
   },
   "source": [
    "В первой задаче вам предлагается перемножить две квадратные матрицы двумя способами -- без использования пакета numpy и с ним."
   ]
  },
  {
   "cell_type": "code",
   "execution_count": 9,
   "metadata": {
    "colab": {},
    "colab_type": "code",
    "id": "506uaq1E9kVn"
   },
   "outputs": [
    {
     "name": "stdout",
     "output_type": "stream",
     "text": [
      "(10, 10)\n",
      "100 2\n",
      "(10, 10)\n",
      "100 2\n",
      "[[0.64757028 0.52620964 0.40219429 0.23984631 0.58121528 0.36257926\n",
      "  0.2741349  0.93789305 0.83021448 0.5719584 ]\n",
      " [0.0771426  0.07810599 0.24437067 0.52688971 0.88393137 0.3217118\n",
      "  0.32084678 0.37229815 0.83523836 0.8130072 ]\n",
      " [0.29384845 0.25799629 0.85977522 0.69233873 0.85999767 0.43181582\n",
      "  0.24102318 0.83032626 0.66561256 0.90765967]\n",
      " [0.10329458 0.98428963 0.66916974 0.81561208 0.51791493 0.5646114\n",
      "  0.29271648 0.1457738  0.35298044 0.24646197]\n",
      " [0.90879274 0.25895899 0.25501215 0.15260298 0.70794217 0.13097363\n",
      "  0.51186366 0.14118152 0.5241935  0.43844018]\n",
      " [0.77133418 0.53369168 0.04950515 0.61493636 0.22323523 0.00544932\n",
      "  0.95152484 0.29940009 0.86389978 0.16887734]\n",
      " [0.86039212 0.48030946 0.54805751 0.03679237 0.60568237 0.84843827\n",
      "  0.61542825 0.18917644 0.76145807 0.62089917]\n",
      " [0.04814054 0.40854953 0.60896012 0.24300453 0.25785891 0.84398377\n",
      "  0.72540979 0.68715201 0.77570224 0.03034016]\n",
      " [0.51137818 0.22966591 0.15588271 0.64587422 0.963523   0.59113915\n",
      "  0.92602303 0.02560142 0.92857383 0.96471838]\n",
      " [0.3376144  0.05057129 0.76350981 0.82117077 0.72872745 0.42650804\n",
      "  0.42740074 0.15587526 0.03586617 0.02734537]] <class 'numpy.ndarray'>\n",
      "[[0.93157788 0.83919349 0.67643024 0.66780227 0.40259269 0.01535392\n",
      "  0.9995263  0.8148934  0.51126729 0.7414956 ]\n",
      " [0.88628209 0.12827465 0.02609531 0.37431193 0.16388318 0.65196445\n",
      "  0.95303546 0.67950777 0.24631775 0.12251963]\n",
      " [0.91529209 0.19775932 0.52358501 0.5778622  0.30374949 0.92685807\n",
      "  0.10614929 0.79823791 0.63310814 0.79996572]\n",
      " [0.48955431 0.62519644 0.15140948 0.40845138 0.79229185 0.88732888\n",
      "  0.19455621 0.24727898 0.43546497 0.32329007]\n",
      " [0.20843838 0.76078494 0.36911532 0.22165026 0.14944568 0.8593488\n",
      "  0.40926569 0.93759771 0.71433766 0.36105392]\n",
      " [0.42298123 0.94491705 0.27832044 0.82693857 0.17894502 0.65882618\n",
      "  0.55387159 0.62877439 0.03835248 0.72645462]\n",
      " [0.49346749 0.90054774 0.92417214 0.2553583  0.97276466 0.38470805\n",
      "  0.86059336 0.57885408 0.54750974 0.29434904]\n",
      " [0.03147255 0.60980959 0.80544896 0.586605   0.92863967 0.70376374\n",
      "  0.13327243 0.77711943 0.0677601  0.03740097]\n",
      " [0.19252966 0.40153601 0.15700331 0.26057183 0.34654831 0.89448735\n",
      "  0.1613683  0.53873457 0.73349311 0.75045213]\n",
      " [0.82650166 0.02326183 0.21543303 0.65684885 0.36580255 0.16191241\n",
      "  0.0302749  0.29002111 0.05273928 0.56510395]] <class 'numpy.ndarray'>\n"
     ]
    }
   ],
   "source": [
    "# Для генерации матриц используем фукнцию random -- она используется для генерации случайных объектов \n",
    "# функция sample создает случайную выборку. В качестве аргумента ей передается кортеж (i,j), здесь i -- число строк,\n",
    "# j -- число столбцов.\n",
    "a = np.random.sample((10,10))\n",
    "b = np.random.sample((10,10))\n",
    "# выведите размерность (ранг) каждой матрицы с помощью функции ndim.\n",
    "# Используйте функцию shape, что она вывела?\n",
    "# ========\n",
    "print(a.shape)\n",
    "print(a.size, a.ndim)\n",
    "print(b.shape)\n",
    "print(b.size, b.ndim)\n",
    "# ========\n",
    "print(a, type(a))\n",
    "print(b, type(b))"
   ]
  },
  {
   "cell_type": "code",
   "execution_count": 8,
   "metadata": {
    "colab": {},
    "colab_type": "code",
    "id": "OT01mk-C9kVq"
   },
   "outputs": [
    {
     "ename": "IndentationError",
     "evalue": "expected an indented block (<ipython-input-8-743534c6e21b>, line 6)",
     "output_type": "error",
     "traceback": [
      "\u001b[0;36m  File \u001b[0;32m\"<ipython-input-8-743534c6e21b>\"\u001b[0;36m, line \u001b[0;32m6\u001b[0m\n\u001b[0;31m    pass\u001b[0m\n\u001b[0m    ^\u001b[0m\n\u001b[0;31mIndentationError\u001b[0m\u001b[0;31m:\u001b[0m expected an indented block\n"
     ]
    }
   ],
   "source": [
    "def mult(a, b):\n",
    "    # здесь напишите перемножение матриц без \n",
    "    # использования NumPy и выведите результат\n",
    "    # ret[i][j] = a[i] * b[j] = sum(a[i][j]*b[j][i])\n",
    "    ret = np.zeros(a.shape)\n",
    "    for i in range(a.shape[0]):\n",
    "        for j in range(a.shape[1]):\n",
    "            ret[i][j] += a[i][j] * b[j][i]\n",
    "    pass"
   ]
  },
  {
   "cell_type": "code",
   "execution_count": 6,
   "metadata": {
    "colab": {},
    "colab_type": "code",
    "id": "AyyDUyqh9kVs"
   },
   "outputs": [],
   "source": [
    "def np_mult(a, b):\n",
    "    # здесь напишите перемножение матриц с\n",
    "    # использованием NumPy и выведите результат\n",
    "    return np.dot(a, b)"
   ]
  },
  {
   "cell_type": "code",
   "execution_count": 0,
   "metadata": {
    "colab": {},
    "colab_type": "code",
    "id": "bL4XGWIh9kVu"
   },
   "outputs": [],
   "source": [
    "%%time\n",
    "# засечем время работы функции без NumPy\n",
    "mult(a,b)"
   ]
  },
  {
   "cell_type": "code",
   "execution_count": 7,
   "metadata": {
    "colab": {},
    "colab_type": "code",
    "id": "Ej9y25jB9kVw"
   },
   "outputs": [
    {
     "name": "stdout",
     "output_type": "stream",
     "text": [
      "CPU times: user 3.66 ms, sys: 0 ns, total: 3.66 ms\n",
      "Wall time: 116 ms\n"
     ]
    },
    {
     "data": {
      "text/plain": [
       "array([[3.39061139, 2.71087876, 2.12166387, 3.5297662 , 3.61756244,\n",
       "        2.1317149 , 2.94459989, 2.99836286, 4.34772328, 2.98093084],\n",
       "       [3.93256585, 2.97877161, 2.37616518, 3.72923717, 3.93062425,\n",
       "        2.00201281, 3.26212091, 3.25760939, 4.26339233, 3.01605417],\n",
       "       [2.86742577, 3.5714189 , 2.36059846, 2.63977965, 3.36677223,\n",
       "        1.72488796, 2.49746099, 2.33976839, 3.42963571, 2.50152261],\n",
       "       [3.78425035, 3.07082951, 2.43793436, 3.32614399, 3.4114002 ,\n",
       "        1.75019681, 3.32853267, 2.60525052, 3.41462619, 3.11950772],\n",
       "       [3.33200419, 2.48214339, 1.08196869, 2.55216588, 2.7918206 ,\n",
       "        1.63644638, 2.77814823, 2.59959719, 3.75170479, 2.5372722 ],\n",
       "       [3.90558776, 3.0533863 , 2.03336455, 3.39768386, 3.3883512 ,\n",
       "        2.36821141, 3.69856004, 3.35078358, 4.27027029, 3.04910203],\n",
       "       [2.88096711, 2.076876  , 1.6812878 , 2.9042956 , 2.18511613,\n",
       "        1.65216289, 2.46509024, 1.8623927 , 2.87883163, 2.27761505],\n",
       "       [2.3777516 , 2.39227734, 1.90141907, 2.54648617, 2.90239267,\n",
       "        1.37967277, 1.98746323, 2.2229225 , 2.98025444, 1.89339619],\n",
       "       [2.85889312, 3.18890439, 2.23860579, 3.23616404, 3.27117488,\n",
       "        2.16240964, 2.71572108, 2.48493506, 3.89823962, 2.69074961],\n",
       "       [3.90340796, 3.4415331 , 2.3448659 , 3.24801745, 3.4885425 ,\n",
       "        2.52419975, 3.71236375, 3.25302415, 4.31184858, 3.32032979]])"
      ]
     },
     "execution_count": 7,
     "metadata": {},
     "output_type": "execute_result"
    }
   ],
   "source": [
    "%%time\n",
    "# засечем время работы функции с NumPy\n",
    "np_mult(a,b)"
   ]
  },
  {
   "cell_type": "markdown",
   "metadata": {
    "colab_type": "text",
    "id": "pNEVDEQJ9kVz"
   },
   "source": [
    "### Задание 2"
   ]
  },
  {
   "cell_type": "markdown",
   "metadata": {
    "colab_type": "text",
    "id": "TNG-vLX_9kVz"
   },
   "source": [
    "Напишите функцию, которая по данной последовательности $\\{A_i\\}_{i=1}^n$ строит последовательность $S_n$, где $S_k = \\frac{A_1 + ... + A_k}{k}$.\n",
    "Аналогично -- с помощью библиотеки NumPy и без нее. Сравните скорость, объясните результат."
   ]
  },
  {
   "cell_type": "code",
   "execution_count": 0,
   "metadata": {
    "colab": {},
    "colab_type": "code",
    "id": "VNuFOp519kV0"
   },
   "outputs": [],
   "source": [
    "# функция, решающая задачу с помощью NumPy\n",
    "def sec_av(A):\n",
    "    # Ваш код здесь\n",
    "    pass"
   ]
  },
  {
   "cell_type": "code",
   "execution_count": 0,
   "metadata": {
    "colab": {},
    "colab_type": "code",
    "id": "kgKYKkRR9kV2"
   },
   "outputs": [],
   "source": [
    "# функция без NumPy\n",
    "def stupid_sec_av(A):\n",
    "    S = [0 for i in range(len(A))]\n",
    "# Ваш код здесь\n",
    "    return S\n",
    "\n",
    "# зададим некоторую последовательность и проверим ее на ваших функциях. \n",
    "# Первая функция должна работать ~ в 50 раз быстрее\n",
    "A = sps.uniform.rvs(size=10 ** 7) \n",
    "\n",
    "%time S1 = sec_av(A)\n",
    "%time S2 = stupid_sec_av(A)\n",
    "#проверим корректность:\n",
    "np.abs(S1 - S2).sum()"
   ]
  },
  {
   "cell_type": "markdown",
   "metadata": {
    "colab_type": "text",
    "id": "hYOmgppl9kV5"
   },
   "source": [
    "### Задание 3"
   ]
  },
  {
   "cell_type": "markdown",
   "metadata": {
    "colab_type": "text",
    "id": "TkrFKdoJ9kV5"
   },
   "source": [
    "Пусть задан некоторый массив $X$. Надо построить новый массив, где все элементы с нечетными индексами требуется заменить на число $a$ (если оно не указано, то на 1). Все четные элементы исходного массива нужно возвести в куб и записать в обратном порядке относительно позиций этих элементов. Массив $X$ при этом должен остаться без изменений. В конце требуется слить массив $X$ с преобразованным $X$ и вывести в обратном порядке."
   ]
  },
  {
   "cell_type": "code",
   "execution_count": 0,
   "metadata": {
    "colab": {},
    "colab_type": "code",
    "id": "MOUotbrS9kV7"
   },
   "outputs": [],
   "source": [
    "# функция, решающая задачу с помощью NumPy\n",
    "def transformation(X, a=1):\n",
    "    # Ваш код здесь\n",
    "    return Y"
   ]
  },
  {
   "cell_type": "code",
   "execution_count": 0,
   "metadata": {
    "colab": {},
    "colab_type": "code",
    "id": "Ut3v_joM9kV9"
   },
   "outputs": [],
   "source": [
    "# функция, решающая задачу  без NumPy\n",
    "def stupid_transformation(X):\n",
    "    # Ваш код здесь\n",
    "    return Y"
   ]
  },
  {
   "cell_type": "code",
   "execution_count": 0,
   "metadata": {
    "colab": {},
    "colab_type": "code",
    "id": "6SezU3-O9kV_"
   },
   "outputs": [],
   "source": [
    "X = sps.uniform.rvs(size=10 ** 7) \n",
    "# здесь код эффективнее примерно в 20 раз. \n",
    "# если Вы вдруг соберетесь печатать массив без np -- лучше сначала посмотрите на его размер\n",
    "%time S1 = transformation(X)\n",
    "%time S2 = stupid_transformation(X)\n",
    "# проверим корректность:\n",
    "np.abs(S1 - S2).sum()"
   ]
  },
  {
   "cell_type": "markdown",
   "metadata": {
    "colab_type": "text",
    "id": "q7eDK6zZ9kWC"
   },
   "source": [
    "Что вы можете сказать о скорости вычислений в `NumPy`? Ответ обоснуйте.\n",
    "\n",
    "**Ответ:**"
   ]
  },
  {
   "cell_type": "markdown",
   "metadata": {
    "colab_type": "text",
    "id": "SLWNN0DA9kWF"
   },
   "source": [
    "### Задание 4"
   ]
  },
  {
   "cell_type": "markdown",
   "metadata": {
    "colab_type": "text",
    "id": "k1tdLLo29kWG"
   },
   "source": [
    "Вам подаются на вход два вектора `a` и `b` в трехмерном пространстве.Заполните их случайными числами. Реализуйте их скалярное произведение с помощью  `NumPy` и без. Засеките время работы, как это показано в заданиях выше."
   ]
  },
  {
   "cell_type": "code",
   "execution_count": 0,
   "metadata": {
    "colab": {},
    "colab_type": "code",
    "id": "116WkBP49kWH"
   },
   "outputs": [],
   "source": [
    "a = #тут ваш код\n",
    "b = #тут ваш код"
   ]
  },
  {
   "cell_type": "code",
   "execution_count": 0,
   "metadata": {
    "colab": {},
    "colab_type": "code",
    "id": "6HKKpgD39kWL"
   },
   "outputs": [],
   "source": [
    "def stupid_scalar_product(a,b):\n",
    "    #тут ваш код"
   ]
  },
  {
   "cell_type": "code",
   "execution_count": 0,
   "metadata": {
    "colab": {},
    "colab_type": "code",
    "id": "lta984vp9kWP"
   },
   "outputs": [],
   "source": [
    "def numpy_scalar_product(a,b):\n",
    "    #тут ваш код"
   ]
  },
  {
   "cell_type": "code",
   "execution_count": 0,
   "metadata": {
    "colab": {},
    "colab_type": "code",
    "id": "5QK3Yj5j9kWR"
   },
   "outputs": [],
   "source": [
    "%time product_1 = stupid_scalar_product(a,b)\n",
    "%time product_2 = numpy_scalar_product(a,b)\n",
    "# проверим корректность:\n",
    "np.abs(product_1 - product_2).sum()"
   ]
  },
  {
   "cell_type": "markdown",
   "metadata": {
    "colab_type": "text",
    "id": "J_7dapMK9kWS"
   },
   "source": [
    "## Бонусная часть (в тесте вопросов по ней не будет)"
   ]
  },
  {
   "cell_type": "markdown",
   "metadata": {
    "colab_type": "text",
    "id": "Ld2wo7J49kWT"
   },
   "source": [
    "Image = 2-D численный массив\n",
    "(или 3-D: CT, MRI, 2D + time; 4-D, …)\n",
    "В текущем задании, image == Numpy array (np.array)"
   ]
  },
  {
   "cell_type": "code",
   "execution_count": 0,
   "metadata": {
    "colab": {},
    "colab_type": "code",
    "id": "4OvzTYbo9kWT"
   },
   "outputs": [],
   "source": [
    "pic = misc.face() #встроенная в библиотеку функция, которая загружает картинку с енотом"
   ]
  },
  {
   "cell_type": "markdown",
   "metadata": {
    "colab_type": "text",
    "id": "7bfaJn7K9kWW"
   },
   "source": [
    "Выведите тип и размеры для переменной pic. Что лежит внутри?"
   ]
  },
  {
   "cell_type": "code",
   "execution_count": 0,
   "metadata": {
    "colab": {},
    "colab_type": "code",
    "id": "MLlpZY-P9kWW"
   },
   "outputs": [],
   "source": [
    "print(#тут ваш код)"
   ]
  },
  {
   "cell_type": "markdown",
   "metadata": {
    "colab_type": "text",
    "id": "x7SVBSJO9kWY"
   },
   "source": [
    "Если вы все сделали правильно, что для формы у вас выведется кортеж из трех чисел: (X, Y, 3). Предположите, откуда там 3?\n",
    "\n",
    "**Ответ:**"
   ]
  },
  {
   "cell_type": "markdown",
   "metadata": {
    "colab_type": "text",
    "id": "4glUbq3J9kWZ"
   },
   "source": [
    "С помощью функции ниже можно вывести изображение и посмотреть, что находится внутри:"
   ]
  },
  {
   "cell_type": "code",
   "execution_count": 0,
   "metadata": {
    "colab": {},
    "colab_type": "code",
    "id": "wW3QcdHH9kWZ"
   },
   "outputs": [],
   "source": [
    "plt.imshow(pic)"
   ]
  },
  {
   "cell_type": "markdown",
   "metadata": {
    "colab_type": "text",
    "id": "JZbV8aaV9kWb"
   },
   "source": [
    "Убедитесь, что внутри массива `pic` действительно лежат числа. Выведите первые 10 записей.\n",
    "Массив состоит из троек чисел, которые характеризуют глубину цвета для каждого пикселя. Из пикселей складывается картинка."
   ]
  },
  {
   "cell_type": "code",
   "execution_count": 0,
   "metadata": {
    "colab": {},
    "colab_type": "code",
    "id": "vnO9Nu3p9kWb"
   },
   "outputs": [],
   "source": [
    "print(#тут ваш код)"
   ]
  },
  {
   "cell_type": "markdown",
   "metadata": {
    "colab_type": "text",
    "id": "OzS_dpQ59kWc"
   },
   "source": [
    "Выведите значение максимального элемента в матрице. Выведите значение минимального. Выведите среднее по всем элементам матрице. В каких пределах лежат значения глубины цветов?"
   ]
  },
  {
   "cell_type": "code",
   "execution_count": 0,
   "metadata": {
    "colab": {},
    "colab_type": "code",
    "id": "8nLbvb7G9kWd"
   },
   "outputs": [],
   "source": [
    "print(#тут ваш код)"
   ]
  },
  {
   "cell_type": "markdown",
   "metadata": {
    "colab_type": "text",
    "id": "7s08AjBO9kWf"
   },
   "source": [
    "## Задание 2"
   ]
  },
  {
   "cell_type": "markdown",
   "metadata": {
    "colab_type": "text",
    "id": "pqnS54SN9kWf"
   },
   "source": [
    "Теперь загрузим черно-белое изображение енота, чтобы наш массив был не 3-х мерным тензором, а двумерным массивом. Тензоры обрабатываются точно также, но для простоты пока что давайте работать с двумерными массивами, т.е. матрицами."
   ]
  },
  {
   "cell_type": "code",
   "execution_count": 0,
   "metadata": {
    "colab": {},
    "colab_type": "code",
    "id": "B4WAhqU39kWf"
   },
   "outputs": [],
   "source": [
    "pic = misc.face(gray=True)"
   ]
  },
  {
   "cell_type": "code",
   "execution_count": 0,
   "metadata": {
    "colab": {},
    "colab_type": "code",
    "id": "AWuyI0k69kWh"
   },
   "outputs": [],
   "source": [
    "plt.imshow(#тут ваш код)"
   ]
  },
  {
   "cell_type": "markdown",
   "metadata": {
    "colab_type": "text",
    "id": "5wGZtJnX9kWk"
   },
   "source": [
    "Выведите форму (shape) полученной картинки `pic`. Какие выводы можно сделать? Положите в `h`,`w` высоту и ширину картинки."
   ]
  },
  {
   "cell_type": "code",
   "execution_count": 0,
   "metadata": {
    "colab": {},
    "colab_type": "code",
    "id": "3vVanBzU9kWk"
   },
   "outputs": [],
   "source": [
    "print(#тут ваш код)\n",
    "h,w=#тут ваш код"
   ]
  },
  {
   "cell_type": "markdown",
   "metadata": {
    "colab_type": "text",
    "id": "xelx9Hxc9kWl"
   },
   "source": [
    "Используя библиотеку `numpy`, отразите изображение по горизонтали. Выведите картинку.\n",
    "\n",
    "Подсказка: не забывайте, что изображения -- это просто двумерные массивы"
   ]
  },
  {
   "cell_type": "code",
   "execution_count": 0,
   "metadata": {
    "colab": {},
    "colab_type": "code",
    "id": "PuBAIYwW9kWn"
   },
   "outputs": [],
   "source": [
    "#тут ваш код"
   ]
  },
  {
   "cell_type": "markdown",
   "metadata": {
    "colab_type": "text",
    "id": "XExgeFAR9kWp"
   },
   "source": [
    "Теперь давайте повысим контрастность -- для этого к каждому пикселю прибавим 50 единиц"
   ]
  },
  {
   "cell_type": "code",
   "execution_count": 0,
   "metadata": {
    "colab": {},
    "colab_type": "code",
    "id": "HqPiifvL9kWp"
   },
   "outputs": [],
   "source": [
    "#тут ваш код"
   ]
  },
  {
   "cell_type": "code",
   "execution_count": 0,
   "metadata": {
    "colab": {},
    "colab_type": "code",
    "id": "8mjGfjTK9kWs"
   },
   "outputs": [],
   "source": [
    "plt.imshow(pic)"
   ]
  },
  {
   "cell_type": "markdown",
   "metadata": {
    "colab_type": "text",
    "id": "FPWOUsQH9kWu"
   },
   "source": [
    "Теперь давайте попробуем превратить наше одноканальное изображение в трехканальный (RGB) тензор. Для этого вместо каждого пикселя в одноканальном изображении (в двумерном массиве) поставим кортеж из трех элементов -- глубины красного, зеленого и голубого соотвественно. Восстановить по ч/б картинке цветной мы не можем, так как мы не можем взять утерянную информацию из ниоткуда, но можем усилить черные и белые участки. Для этого давайте заполним все три канала одинаковыми значениями, деленными на что-то очень большое. Например $--$ на $200$.  То есть, например, если в пикселе `pic[i][j]` лежало значение **200**, то для нового изображения `new_pic` мы заполняем `new_pic[i][j]` кортежем из трех чисел `int(pic[i][j]/3)`. Функция `int` $--$ округление до целой части."
   ]
  },
  {
   "cell_type": "code",
   "execution_count": 0,
   "metadata": {
    "colab": {},
    "colab_type": "code",
    "id": "hEK9jRSf9kWv"
   },
   "outputs": [],
   "source": [
    "new_pic = np.zeros((h,w,3)) #создадим пустую матрицу, куда будем записывать значения\n",
    "for i in range(h):\n",
    "    for j in range(w):\n",
    "     #тут ваш код"
   ]
  },
  {
   "cell_type": "code",
   "execution_count": 0,
   "metadata": {
    "colab": {},
    "colab_type": "code",
    "id": "_RUpiNo69kWx"
   },
   "outputs": [],
   "source": [
    "plt.imshow(#тут ваш код)"
   ]
  },
  {
   "cell_type": "markdown",
   "metadata": {
    "colab_type": "text",
    "id": "OVO189tU9kWz"
   },
   "source": [
    "## Задание 3"
   ]
  },
  {
   "cell_type": "markdown",
   "metadata": {
    "colab_type": "text",
    "id": "kacDftwY9kW0"
   },
   "source": [
    "Теперь давайте уменьшим качество картинки в 16 раз, путем уменьшения качества изображения, т.е. теперь 16 пикселей по близости надо заполнить одним значением."
   ]
  },
  {
   "cell_type": "code",
   "execution_count": 0,
   "metadata": {
    "colab": {},
    "colab_type": "code",
    "id": "s21pa_tJ9kW0"
   },
   "outputs": [],
   "source": [
    "from sklearn.datasets import load_sample_image #импорт загрузчика изображения"
   ]
  },
  {
   "cell_type": "code",
   "execution_count": 0,
   "metadata": {
    "colab": {},
    "colab_type": "code",
    "id": "yTt_fdLC9kW2"
   },
   "outputs": [],
   "source": [
    "china = load_sample_image('china.jpg')\n",
    "plt.imshow(china)"
   ]
  },
  {
   "cell_type": "markdown",
   "metadata": {
    "colab_type": "text",
    "id": "CV3st_wn9kW4"
   },
   "source": [
    "Запишите в переменные `h`, `w`, `c` высоту, ширину, количество каналов соответственно для картинки `china`."
   ]
  },
  {
   "cell_type": "code",
   "execution_count": 0,
   "metadata": {
    "colab": {},
    "colab_type": "code",
    "id": "nJHwDMmv9kW4"
   },
   "outputs": [],
   "source": [
    "h, w, c = #тут ваш код"
   ]
  },
  {
   "cell_type": "markdown",
   "metadata": {
    "colab_type": "text",
    "id": "xu3xAGDu9kW5"
   },
   "source": [
    "Теперь давайте непосредственно перейдем к изменению картинки $--$ мы предлагаем разбивать картинки на квадраты 4 на 4 и заполнять все 16 значений внутри квадрата левым верхним значением. Вы можете сделать иначе."
   ]
  },
  {
   "cell_type": "code",
   "execution_count": 0,
   "metadata": {
    "colab": {},
    "colab_type": "code",
    "id": "GisNhXFK9kW6"
   },
   "outputs": [],
   "source": [
    "from copy import copy\n",
    "compressed_pic = copy(china)\n",
    "#тут ваш код     "
   ]
  },
  {
   "cell_type": "markdown",
   "metadata": {
    "colab_type": "text",
    "id": "0Kzb067Y9kW8"
   },
   "source": [
    "Напишите функцию, которая считает несоотвествие между исходной и сжатой картинкой. Запустите ваш код для `compressed_pic`, `china`"
   ]
  },
  {
   "cell_type": "code",
   "execution_count": 0,
   "metadata": {
    "colab": {},
    "colab_type": "code",
    "id": "39qh8JuZ9kW9"
   },
   "outputs": [],
   "source": [
    "def calculate_mismatch(a,b):\n",
    "    mismatch=0\n",
    "    #тут ваш код\n",
    "    print(mismatch)"
   ]
  },
  {
   "cell_type": "code",
   "execution_count": 0,
   "metadata": {
    "colab": {},
    "colab_type": "code",
    "id": "kVYOFPMP9kW_"
   },
   "outputs": [],
   "source": [
    "calculate_mismatch(#тут ваш код)"
   ]
  },
  {
   "cell_type": "markdown",
   "metadata": {
    "colab_type": "text",
    "id": "SxQTJIGs9kXF"
   },
   "source": [
    "Посчитайте синус от каждого значения пикселей изображения `china` по всем каналам. Выведите картинку. Используйте функцию `np.sin` "
   ]
  },
  {
   "cell_type": "code",
   "execution_count": 0,
   "metadata": {
    "colab": {},
    "colab_type": "code",
    "id": "UsXNJxLm9kXF"
   },
   "outputs": [],
   "source": [
    "#тут ваш код"
   ]
  },
  {
   "cell_type": "code",
   "execution_count": 0,
   "metadata": {
    "colab": {},
    "colab_type": "code",
    "id": "v8K8YZ3-9kXH"
   },
   "outputs": [],
   "source": [
    "plt.imshow(#тут ваш код) "
   ]
  },
  {
   "cell_type": "markdown",
   "metadata": {
    "colab_type": "text",
    "id": "0oH0MRQL9kXJ"
   },
   "source": [
    "Посмотрите на полученный результат. Как вы думаете, что можно делать с помощью такого преобразования? Какого рода объекты можно распознать?"
   ]
  },
  {
   "cell_type": "markdown",
   "metadata": {
    "colab_type": "text",
    "id": "KNJq_gfL9kXN"
   },
   "source": [
    "### Задание 4*\n",
    "это задание является дополнительным"
   ]
  },
  {
   "cell_type": "markdown",
   "metadata": {
    "colab_type": "text",
    "id": "4ht209199kXO"
   },
   "source": [
    "Теперь давайте поработаем с аудиофайлами. Стандартный аудиофайл представляет собой обычный набор чисел, в котором хранятся значения частот, снятых с определенной периодичностью. Итак, самая простая аудиодорожка $-$ одномерный массив.\n",
    "\n",
    "Первое, что нужно сделать $--$ установить библиотеку для работы с аудио. Она называется `librosa`. Гайд по установке: https://librosa.github.io/librosa/install.html\n"
   ]
  },
  {
   "cell_type": "code",
   "execution_count": 0,
   "metadata": {
    "colab": {},
    "colab_type": "code",
    "id": "nwg7Hn349kXP"
   },
   "outputs": [],
   "source": [
    "import librosa #импортируем библиотеку\n",
    "import IPython.display"
   ]
  },
  {
   "cell_type": "code",
   "execution_count": 0,
   "metadata": {
    "colab": {},
    "colab_type": "code",
    "id": "kbvx2c_L9kXQ"
   },
   "outputs": [],
   "source": [
    "audio, sr= librosa.load('Test.wav')  \n",
    "# записываем наш массив звуковых частот в файл аудио, sr -- число точек, записываемых в секунду. \n",
    "# чтобы файл открылся, он должен лежать в той же папке, что и файл HW_2.ipynb"
   ]
  },
  {
   "cell_type": "markdown",
   "metadata": {
    "colab_type": "text",
    "id": "w9Tipzz99kXS"
   },
   "source": [
    "Нашу дорожку можно воспроизвести в самом файле `.ipynb`:"
   ]
  },
  {
   "cell_type": "code",
   "execution_count": 0,
   "metadata": {
    "colab": {},
    "colab_type": "code",
    "id": "T2Rr5zTX9kXT"
   },
   "outputs": [],
   "source": [
    "IPython.display.Audio(audio, rate=sr)"
   ]
  },
  {
   "cell_type": "markdown",
   "metadata": {
    "colab_type": "text",
    "id": "QPRjmIoZ9kXW"
   },
   "source": [
    "Выведите тип данных переменной `audio`, найдите ее длительность и среднее."
   ]
  },
  {
   "cell_type": "code",
   "execution_count": 0,
   "metadata": {
    "colab": {},
    "colab_type": "code",
    "id": "ECc4dGk49kXW"
   },
   "outputs": [],
   "source": [
    "print(#тут ваш код)"
   ]
  },
  {
   "cell_type": "markdown",
   "metadata": {
    "colab_type": "text",
    "id": "574hvLOr9kXX"
   },
   "source": [
    "    Давайте посмотрим, как выглядит наша дорожка. Для этого используем библиотеку `matplotlib.pyplot`"
   ]
  },
  {
   "cell_type": "code",
   "execution_count": 0,
   "metadata": {
    "colab": {},
    "colab_type": "code",
    "id": "uW5eBW5Q9kXY"
   },
   "outputs": [],
   "source": [
    "plt.figure(figsize=(25,5))\n",
    "plt.title('Test.wav')\n",
    "plt.plot(audio)"
   ]
  },
  {
   "cell_type": "markdown",
   "metadata": {
    "colab_type": "text",
    "id": "uMboMRu89kXZ"
   },
   "source": [
    "Обрежьте последние 4 секунды файла"
   ]
  },
  {
   "cell_type": "code",
   "execution_count": 0,
   "metadata": {
    "colab": {},
    "colab_type": "code",
    "id": "4CcwvAnb9kXb"
   },
   "outputs": [],
   "source": [
    "audio = #тут ваш код"
   ]
  },
  {
   "cell_type": "markdown",
   "metadata": {
    "colab_type": "text",
    "id": "NQTEVqad9kXd"
   },
   "source": [
    "Давайте уменьшим амплитуду на 25%. Что при этом изменится? Напоминаю, что вы всегда можете послушать изменения при помощи `IPython.display.Audio`"
   ]
  },
  {
   "cell_type": "code",
   "execution_count": 0,
   "metadata": {
    "colab": {},
    "colab_type": "code",
    "id": "aYkN5Tbe9kXd"
   },
   "outputs": [],
   "source": [
    "audio = #тут ваш код"
   ]
  },
  {
   "cell_type": "markdown",
   "metadata": {
    "colab_type": "text",
    "id": "0mEQkKbc9kXf"
   },
   "source": [
    "А еще аудиодорожку можно ускорить. Для этого попробуйте потюнить параметр `rate`"
   ]
  },
  {
   "cell_type": "code",
   "execution_count": 0,
   "metadata": {
    "colab": {},
    "colab_type": "code",
    "id": "kCIh5VqX9kXg"
   },
   "outputs": [],
   "source": [
    "IPython.display.Audio(audio, rate=sr)"
   ]
  }
 ],
 "metadata": {
  "colab": {
   "collapsed_sections": [],
   "name": "[homework]numpy.ipynb",
   "provenance": [],
   "version": "0.3.2"
  },
  "kernelspec": {
   "display_name": "Python 3",
   "language": "python",
   "name": "python3"
  },
  "language_info": {
   "codemirror_mode": {
    "name": "ipython",
    "version": 3
   },
   "file_extension": ".py",
   "mimetype": "text/x-python",
   "name": "python",
   "nbconvert_exporter": "python",
   "pygments_lexer": "ipython3",
   "version": "3.7.1"
  }
 },
 "nbformat": 4,
 "nbformat_minor": 1
}
